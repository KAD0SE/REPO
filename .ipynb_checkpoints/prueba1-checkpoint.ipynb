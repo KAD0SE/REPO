{
 "cells": [
  {
   "cell_type": "markdown",
   "id": "452b4f1b",
   "metadata": {},
   "source": [
    "## todo es prueba"
   ]
  },
  {
   "cell_type": "code",
   "execution_count": 1,
   "id": "fbbd3a0a",
   "metadata": {},
   "outputs": [],
   "source": [
    "def suma(a,b):\n",
    "    suma = a + b\n",
    "    return suma"
   ]
  },
  {
   "cell_type": "code",
   "execution_count": 2,
   "id": "05b20dc2",
   "metadata": {},
   "outputs": [
    {
     "data": {
      "text/plain": [
       "10"
      ]
     },
     "execution_count": 2,
     "metadata": {},
     "output_type": "execute_result"
    }
   ],
   "source": [
    "suma(3,7)"
   ]
  },
  {
   "cell_type": "markdown",
   "id": "86e1cb8e",
   "metadata": {},
   "source": []
  }
 ],
 "metadata": {
  "kernelspec": {
   "display_name": "Python 3 (ipykernel)",
   "language": "python",
   "name": "python3"
  },
  "language_info": {
   "codemirror_mode": {
    "name": "ipython",
    "version": 3
   },
   "file_extension": ".py",
   "mimetype": "text/x-python",
   "name": "python",
   "nbconvert_exporter": "python",
   "pygments_lexer": "ipython3",
   "version": "3.9.7"
  }
 },
 "nbformat": 4,
 "nbformat_minor": 5
}
